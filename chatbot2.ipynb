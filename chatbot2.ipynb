{
  "cells": [
    {
      "cell_type": "markdown",
      "metadata": {
        "id": "view-in-github",
        "colab_type": "text"
      },
      "source": [
        "<a href=\"https://colab.research.google.com/github/Krukruthi745/Corpus-Based-Chatbot/blob/main/chatbot2.ipynb\" target=\"_parent\"><img src=\"https://colab.research.google.com/assets/colab-badge.svg\" alt=\"Open In Colab\"/></a>"
      ]
    },
    {
      "cell_type": "code",
      "execution_count": null,
      "metadata": {
        "id": "dNyVwp88h-e_"
      },
      "outputs": [],
      "source": []
    },
    {
      "cell_type": "code",
      "execution_count": null,
      "metadata": {
        "colab": {
          "background_save": true,
          "base_uri": "https://localhost:8080/"
        },
        "id": "eRHk32U_h_OV",
        "outputId": "12695ee6-c7fc-4ec4-db9d-69393e253ee5"
      },
      "outputs": [
        {
          "name": "stderr",
          "output_type": "stream",
          "text": [
            "[nltk_data] Downloading package punkt to /root/nltk_data...\n",
            "[nltk_data]   Package punkt is already up-to-date!\n",
            "[nltk_data] Downloading package punkt_tab to /root/nltk_data...\n",
            "[nltk_data]   Package punkt_tab is already up-to-date!\n",
            "[nltk_data] Downloading package wordnet to /root/nltk_data...\n",
            "[nltk_data]   Package wordnet is already up-to-date!\n"
          ]
        },
        {
          "name": "stdout",
          "output_type": "stream",
          "text": [
            "BOT: My name is Stark. Let's have a conversation! Also, if you want to exit any time, just type Bye!\n",
            "BOT: the medicine for fever is paracetamol or ibuprofen.\n",
            "BOT: the medicine for malaria is chloroquine or artemisinin-based combination therapy (act).\n",
            "BOT: I am sorry! I don't understand you.\n"
          ]
        }
      ],
      "source": [
        "import nltk\n",
        "import numpy as np\n",
        "import random\n",
        "import string\n",
        "from sklearn.feature_extraction.text import TfidfVectorizer\n",
        "from sklearn.metrics.pairwise import cosine_similarity\n",
        "from nltk.stem import WordNetLemmatizer\n",
        "\n",
        "# ----------------------------\n",
        "# Download required NLTK data\n",
        "# ----------------------------\n",
        "nltk.download('punkt')\n",
        "nltk.download('punkt_tab')   # NEW fix for sentence tokenization\n",
        "nltk.download('wordnet')\n",
        "\n",
        "# ----------------------------\n",
        "# Read the corpus\n",
        "# ----------------------------\n",
        "f = open('/content/symptom_medicine_sentences.txt', 'r', errors='ignore')\n",
        "raw = f.read().lower()\n",
        "\n",
        "# Tokenize\n",
        "sent_tokens = nltk.sent_tokenize(raw)   # sentences\n",
        "word_tokens = nltk.word_tokenize(raw)   # words\n",
        "\n",
        "# ----------------------------\n",
        "# Lemmatization\n",
        "# ----------------------------\n",
        "lemmer = WordNetLemmatizer()\n",
        "\n",
        "def LemTokens(tokens):\n",
        "    return [lemmer.lemmatize(token) for token in tokens]\n",
        "\n",
        "remove_punct_dict = dict((ord(punct), None) for punct in string.punctuation)\n",
        "\n",
        "def LemNormalize(text):\n",
        "    return LemTokens(nltk.word_tokenize(text.lower().translate(remove_punct_dict)))\n",
        "\n",
        "# ----------------------------\n",
        "# Greeting function\n",
        "# ----------------------------\n",
        "GREETING_INPUTS = (\"hello\", \"hi\", \"greetings\", \"sup\", \"what's up\", \"hey\")\n",
        "GREETING_RESPONSES = [\"hi\", \"hey\", \"hello\", \"I am glad you are talking to me!\"]\n",
        "\n",
        "def greet(sentence):\n",
        "    for word in sentence.split():\n",
        "        if word.lower() in GREETING_INPUTS:\n",
        "            return random.choice(GREETING_RESPONSES)\n",
        "\n",
        "# ----------------------------\n",
        "# TF-IDF Vectorizer\n",
        "# ----------------------------\n",
        "TfidfVec = TfidfVectorizer(tokenizer=LemNormalize)\n",
        "tfidf_corpus = TfidfVec.fit_transform(sent_tokens)\n",
        "\n",
        "# ----------------------------\n",
        "# Response function\n",
        "# ----------------------------\n",
        "def response(user_response):\n",
        "    robo1_response = ''\n",
        "    tfidf_user = TfidfVec.transform([user_response])\n",
        "    vals = cosine_similarity(tfidf_user, tfidf_corpus)\n",
        "\n",
        "    idx = vals.argsort()[0][-1]      # index of best match\n",
        "    score = vals[0][idx]             # similarity score\n",
        "\n",
        "    if score == 0:\n",
        "        robo1_response = \"I am sorry! I don't understand you.\"\n",
        "    else:\n",
        "        robo1_response = sent_tokens[idx]   # best matching sentence\n",
        "\n",
        "    return robo1_response\n",
        "\n",
        "# ----------------------------\n",
        "# Conversation loop\n",
        "# ----------------------------\n",
        "flag = True\n",
        "print(\"BOT: My name is Stark. Let's have a conversation! Also, if you want to exit any time, just type Bye!\")\n",
        "\n",
        "while flag:\n",
        "    user_response = input()\n",
        "    user_response = user_response.lower()\n",
        "    if user_response != 'bye':\n",
        "        if user_response in ('thanks', 'thank you'):\n",
        "            flag = False\n",
        "            print(\"BOT: You are welcome..\")\n",
        "        else:\n",
        "            if greet(user_response) is not None:\n",
        "                print(\"BOT: \" + greet(user_response))\n",
        "            else:\n",
        "                print(\"BOT: \" + response(user_response))\n",
        "    else:\n",
        "        flag = False\n",
        "        print(\"BOT: Bye! take care..\")\n"
      ]
    }
  ],
  "metadata": {
    "colab": {
      "provenance": [],
      "authorship_tag": "ABX9TyNPIiuqzQzOeI6kDt3aRSTi",
      "include_colab_link": true
    },
    "kernelspec": {
      "display_name": "Python 3",
      "name": "python3"
    },
    "language_info": {
      "name": "python"
    }
  },
  "nbformat": 4,
  "nbformat_minor": 0
}